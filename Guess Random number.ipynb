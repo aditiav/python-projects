{
 "cells": [
  {
   "cell_type": "code",
   "execution_count": 3,
   "metadata": {},
   "outputs": [
    {
     "name": "stdout",
     "output_type": "stream",
     "text": [
      "Guess your number between 0 and 100  :  4\n",
      "19\n",
      "cold\n",
      "Guess the number  : 56\n",
      "colder\n",
      "Guess the number  : 30\n",
      "warmer\n",
      "Guess the number  : 10\n",
      "warmer\n",
      "Guess the number  : 19\n",
      "You guessed the number in 5 guesses\n"
     ]
    }
   ],
   "source": [
    "import random\n",
    "randnum = random.randint(1,100)\n",
    "inputnum=input('Guess your number between 0 and 100  :  ')\n",
    "num=int(inputnum)\n",
    "print(randnum)\n",
    "myguess=[0]\n",
    "while num !=randnum:\n",
    "        if num < 1 or num >100:\n",
    "            print ('\\nNumber out of bounds')\n",
    "            inputnum=input('Guess the number between 0 and 100  : ')\n",
    "            num=int(inputnum)\n",
    "            continue\n",
    "        elif abs(randnum - num)>10 and len(myguess) ==1:\n",
    "            myguess.append(num)\n",
    "            print ('cold')\n",
    "            inputnum=input('Guess the number  : ')\n",
    "            num=int(inputnum)\n",
    "            continue\n",
    "        elif abs(randnum - num)<10 and len(myguess)==1:\n",
    "            myguess.append(num)\n",
    "            print ('warm')\n",
    "            inputnum=input('Guess the number  : ')\n",
    "            num=int(inputnum)\n",
    "            continue\n",
    "        elif abs(randnum  - num) < abs(randnum - myguess[-1]):\n",
    "            myguess.append(num)\n",
    "            print ('warmer')\n",
    "            inputnum=input('Guess the number  : ')\n",
    "            num=int(inputnum)\n",
    "            continue\n",
    "        elif abs(randnum  - num) > abs(randnum- myguess[-1]):\n",
    "            myguess.append(num)\n",
    "            print ('colder')\n",
    "            inputnum=input('Guess the number  : ')\n",
    "            num=int(inputnum)\n",
    "            continue\n",
    "        elif num==randnum:\n",
    "            print ('You guessed the number in % guesses'.format(len(myguess)+2) )\n",
    "            break\n",
    "print ('You guessed the number in {} guesses'.format(len(myguess)) )\n",
    "            "
   ]
  },
  {
   "cell_type": "code",
   "execution_count": null,
   "metadata": {
    "collapsed": true
   },
   "outputs": [],
   "source": []
  },
  {
   "cell_type": "code",
   "execution_count": null,
   "metadata": {
    "collapsed": true
   },
   "outputs": [],
   "source": []
  },
  {
   "cell_type": "code",
   "execution_count": null,
   "metadata": {
    "collapsed": true
   },
   "outputs": [],
   "source": []
  }
 ],
 "metadata": {
  "kernelspec": {
   "display_name": "Python 3",
   "language": "python",
   "name": "python3"
  },
  "language_info": {
   "codemirror_mode": {
    "name": "ipython",
    "version": 3
   },
   "file_extension": ".py",
   "mimetype": "text/x-python",
   "name": "python",
   "nbconvert_exporter": "python",
   "pygments_lexer": "ipython3",
   "version": "3.6.3"
  }
 },
 "nbformat": 4,
 "nbformat_minor": 2
}
