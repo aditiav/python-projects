{
 "cells": [
  {
   "cell_type": "code",
   "execution_count": 2,
   "metadata": {},
   "outputs": [
    {
     "name": "stdout",
     "output_type": "stream",
     "text": [
      "Guess your number between 0 and 100  :  23\n",
      "68\n"
     ]
    },
    {
     "ename": "IndexError",
     "evalue": "list index out of range",
     "output_type": "error",
     "traceback": [
      "\u001b[0;31m---------------------------------------------------------------------------\u001b[0m",
      "\u001b[0;31mIndexError\u001b[0m                                Traceback (most recent call last)",
      "\u001b[0;32m<ipython-input-2-885f3a3831be>\u001b[0m in \u001b[0;36m<module>\u001b[0;34m()\u001b[0m\n\u001b[1;32m     23\u001b[0m             \u001b[0mnum\u001b[0m\u001b[0;34m=\u001b[0m\u001b[0mint\u001b[0m\u001b[0;34m(\u001b[0m\u001b[0minputnum\u001b[0m\u001b[0;34m)\u001b[0m\u001b[0;34m\u001b[0m\u001b[0m\n\u001b[1;32m     24\u001b[0m             \u001b[0;32mcontinue\u001b[0m\u001b[0;34m\u001b[0m\u001b[0m\n\u001b[0;32m---> 25\u001b[0;31m         \u001b[0;32melif\u001b[0m \u001b[0mabs\u001b[0m\u001b[0;34m(\u001b[0m\u001b[0mrandnum\u001b[0m  \u001b[0;34m-\u001b[0m \u001b[0mnum\u001b[0m\u001b[0;34m)\u001b[0m \u001b[0;34m<\u001b[0m \u001b[0mabs\u001b[0m\u001b[0;34m(\u001b[0m\u001b[0mrandnum\u001b[0m \u001b[0;34m-\u001b[0m \u001b[0mmyguess\u001b[0m\u001b[0;34m[\u001b[0m\u001b[0;34m-\u001b[0m\u001b[0;36m1\u001b[0m\u001b[0;34m]\u001b[0m\u001b[0;34m)\u001b[0m\u001b[0;34m:\u001b[0m\u001b[0;34m\u001b[0m\u001b[0m\n\u001b[0m\u001b[1;32m     26\u001b[0m             \u001b[0mmyguess\u001b[0m\u001b[0;34m.\u001b[0m\u001b[0mappend\u001b[0m\u001b[0;34m(\u001b[0m\u001b[0mnum\u001b[0m\u001b[0;34m)\u001b[0m\u001b[0;34m\u001b[0m\u001b[0m\n\u001b[1;32m     27\u001b[0m             \u001b[0mprint\u001b[0m \u001b[0;34m(\u001b[0m\u001b[0;34m'warmer'\u001b[0m\u001b[0;34m)\u001b[0m\u001b[0;34m\u001b[0m\u001b[0m\n",
      "\u001b[0;31mIndexError\u001b[0m: list index out of range"
     ]
    }
   ],
   "source": [
    "import random\n",
    "randnum = random.randint(1,100)\n",
    "inputnum=input('Guess your number between 0 and 100  :  ')\n",
    "num=int(inputnum)\n",
    "print(randnum)\n",
    "myguess=[0]\n",
    "while num !=randnum:\n",
    "        if num < 1 or num >100:\n",
    "            print ('\\nNumber out of bounds')\n",
    "            inputnum=input('Guess the number between 0 and 100  : ')\n",
    "            num=int(inputnum)\n",
    "            continue\n",
    "        elif abs(randnum - num)>10 and len(myguess) ==1:\n",
    "            myguess.append(num)\n",
    "            print ('cold')\n",
    "            inputnum=input('Guess the number  : ')\n",
    "            num=int(inputnum)\n",
    "            continue\n",
    "        elif abs(randnum - num)<10 and len(myguess)==1:\n",
    "            myguess.append(num)\n",
    "            print ('warm')\n",
    "            inputnum=input('Guess the number  : ')\n",
    "            num=int(inputnum)\n",
    "            continue\n",
    "        elif abs(randnum  - num) < abs(randnum - myguess[-1]):\n",
    "            myguess.append(num)\n",
    "            print ('warmer')\n",
    "            inputnum=input('Guess the number  : ')\n",
    "            num=int(inputnum)\n",
    "            continue\n",
    "        elif abs(randnum  - num) > abs(randnum- myguess[-1]):\n",
    "            myguess.append(num)\n",
    "            print ('colder')\n",
    "            inputnum=input('Guess the number  : ')\n",
    "            num=int(inputnum)\n",
    "            continue\n",
    "        elif num==randnum:\n",
    "            print ('You guessed the number in % guesses'.format(len(myguess)+2) )\n",
    "            break\n",
    "print ('You guessed the number in {} guesses'.format(len(myguess)) )\n",
    "            "
   ]
  },
  {
   "cell_type": "code",
   "execution_count": null,
   "metadata": {
    "collapsed": true
   },
   "outputs": [],
   "source": []
  },
  {
   "cell_type": "code",
   "execution_count": null,
   "metadata": {
    "collapsed": true
   },
   "outputs": [],
   "source": []
  },
  {
   "cell_type": "code",
   "execution_count": null,
   "metadata": {
    "collapsed": true
   },
   "outputs": [],
   "source": []
  }
 ],
 "metadata": {
  "kernelspec": {
   "display_name": "Python 3",
   "language": "python",
   "name": "python3"
  },
  "language_info": {
   "codemirror_mode": {
    "name": "ipython",
    "version": 3
   },
   "file_extension": ".py",
   "mimetype": "text/x-python",
   "name": "python",
   "nbconvert_exporter": "python",
   "pygments_lexer": "ipython3",
   "version": "3.6.3"
  }
 },
 "nbformat": 4,
 "nbformat_minor": 2
}
